{
 "cells": [
  {
   "cell_type": "markdown",
   "metadata": {
    "application/vnd.databricks.v1+cell": {
     "cellMetadata": {
      "byteLimit": 2048000,
      "rowLimit": 10000
     },
     "inputWidgets": {},
     "nuid": "0d4fc465-765f-4641-9b86-a36e1ff91a3b",
     "showTitle": false,
     "title": ""
    }
   },
   "source": [
    "# Crisp basics\n",
    "\n",
    "This page shows you how to get started with the Crisp datasets using the Python client library.\n",
    "\n",
    "<table align=\"left\">\n",
    "  <td style=\"text-align: center\">\n",
    "    <a href=\"https://colab.research.google.com/github/gocrisp/analytics-blueprints-public/blob/main/notebooks/crisp_basics.ipynb\">\n",
    "      <img src=\"https://cloud.google.com/ml-engine/images/colab-logo-32px.png\" alt=\"Google Colaboratory logo\"><br> Open in Colab\n",
    "    </a>\n",
    "  </td>\n",
    "  <td style=\"text-align: center\">\n",
    "    <a href=\"https://console.cloud.google.com/vertex-ai/colab/import/https:%2F%2Fraw.githubusercontent.com%2Fgocrisp%2Fanalytics-blueprints-public%2Fmain%2Fnotebooks%2Fcrisp_basics.ipynb\">\n",
    "      <img width=\"32px\" src=\"https://cloud.google.com/ml-engine/images/colab-enterprise-logo-32px.png\" alt=\"Google Cloud Colab Enterprise logo\"><br> Open in Colab Enterprise\n",
    "    </a>\n",
    "  </td> \n",
    "  <td style=\"text-align: center\">                                                                             \n",
    "    <a href=\"https://console.cloud.google.com/vertex-ai/notebooks/deploy-notebook?download_url=https://raw.githubusercontent.com/gocrisp/analytics-blueprints-public/main/notebooks/crisp_basics.ipynb\">\n",
    "      <img src=\"https://lh3.googleusercontent.com/UiNooY4LUgW_oTvpsNhPpQzsstV5W8F7rYgxgGBD85cWJoLmrOzhVs_ksK_vgx40SHs7jCqkTkCk=e14-rj-sc0xffffff-h130-w32\" alt=\"Vertex AI logo\"><br> Open in Workbench\n",
    "    </a>\n",
    "  </td>\n",
    "  <td style=\"text-align: center\">\n",
    "    <a href=\"https://github.com/gocrisp/analytics-blueprints-public/blob/main/notebooks/crisp_basics.ipynb\">\n",
    "      <img src=\"https://cloud.google.com/ml-engine/images/github-logo-32px.png\" alt=\"GitHub logo\"><br> View on GitHub\n",
    "    </a>\n",
    "  </td>\n",
    "</table>"
   ]
  },
  {
   "metadata": {},
   "cell_type": "markdown",
   "source": [
    "### Install common dependencies\n",
    "\n",
    "This is just a placeholder!"
   ]
  },
  {
   "metadata": {
    "application/vnd.databricks.v1+cell": {
     "cellMetadata": {
      "byteLimit": 2048000,
      "rowLimit": 10000
     },
     "inputWidgets": {},
     "nuid": "b875a8ed-b79b-4cfc-910e-3e53b354fab8",
     "showTitle": false,
     "title": ""
    }
   },
   "cell_type": "code",
   "source": "!pip install noop",
   "outputs": [],
   "execution_count": null
  },
  {
   "cell_type": "markdown",
   "metadata": {
    "application/vnd.databricks.v1+cell": {
     "cellMetadata": {},
     "inputWidgets": {},
     "nuid": "e947206f-1712-4bc7-8490-679d1aefe4ab",
     "showTitle": false,
     "title": ""
    }
   },
   "source": [
    "### Restart Python"
   ]
  },
  {
   "cell_type": "code",
   "metadata": {
    "application/vnd.databricks.v1+cell": {
     "cellMetadata": {
      "byteLimit": 2048000,
      "rowLimit": 10000
     },
     "inputWidgets": {},
     "nuid": "e5842a34-f7a4-46d2-a8fa-bad2357b1491",
     "showTitle": false,
     "title": ""
    }
   },
   "source": [
    "import sys\n",
    "\n",
    "if \"google.colab\" in sys.modules:\n",
    "\n",
    "    import IPython\n",
    "\n",
    "    app = IPython.Application.instance()\n",
    "    app.kernel.do_shutdown(True)"
   ],
   "outputs": [],
   "execution_count": null
  },
  {
   "metadata": {},
   "cell_type": "markdown",
   "source": "### Set your account and connector ID"
  },
  {
   "metadata": {
    "application/vnd.databricks.v1+cell": {
     "cellMetadata": {
      "byteLimit": 2048000,
      "rowLimit": 10000
     },
     "inputWidgets": {},
     "nuid": "faf18465-b27e-4207-8b54-38df5ca8c7cb",
     "showTitle": false,
     "title": ""
    }
   },
   "cell_type": "code",
   "source": [
    "ACCOUNT_ID = \"80548\"\n",
    "CONNECTOR_ID = \"3378\" # optional"
   ],
   "outputs": [],
   "execution_count": null
  },
  {
   "cell_type": "markdown",
   "metadata": {
    "application/vnd.databricks.v1+cell": {
     "cellMetadata": {},
     "inputWidgets": {},
     "nuid": "efecc642-6a3f-410e-982a-c7a2af277b5f",
     "showTitle": false,
     "title": ""
    }
   },
   "source": [
    "### Detect environment that you are running with"
   ]
  },
  {
   "cell_type": "code",
   "metadata": {
    "application/vnd.databricks.v1+cell": {
     "cellMetadata": {
      "byteLimit": 2048000,
      "rowLimit": 10000
     },
     "inputWidgets": {},
     "nuid": "7fb76d56-9fd5-43e9-950f-965ce49a7067",
     "showTitle": false,
     "title": ""
    }
   },
   "source": [
    "ipython_env = str(get_ipython())\n",
    "if \"google.colab\" in ipython_env:\n",
    "    environment_type = \"colab\"\n",
    "elif \"Databricks\" in ipython_env:\n",
    "    environment_type = \"databricks\"\n",
    "elif \"ipykernel\" in ipython_env:\n",
    "    environment_type = \"local\"\n",
    "else:\n",
    "    raise ValueError(\"Unsupported environment\")\n",
    "\n",
    "print(\"Environment type: {}\".format(environment_type))"
   ],
   "outputs": [],
   "execution_count": null
  },
  {
   "cell_type": "markdown",
   "metadata": {
    "application/vnd.databricks.v1+cell": {
     "cellMetadata": {
      "byteLimit": 2048000,
      "rowLimit": 10000
     },
     "inputWidgets": {},
     "nuid": "81e13afd-6bd1-4973-9b9d-14ec70d7e5c9",
     "showTitle": false,
     "title": ""
    }
   },
   "source": [
    "## Import the libraries used in this tutorial and authenticate if needed"
   ]
  },
  {
   "cell_type": "code",
   "metadata": {
    "application/vnd.databricks.v1+cell": {
     "cellMetadata": {
      "byteLimit": 2048000,
      "rowLimit": 10000
     },
     "inputWidgets": {},
     "nuid": "16e6adb2-5585-418a-8430-5461f4800e0b",
     "showTitle": false,
     "title": ""
    }
   },
   "source": [
    "import os\n",
    "\n",
    "if environment_type == \"colab\":\n",
    "    from google.cloud import bigquery, exceptions\n",
    "    from google.colab import auth\n",
    "    auth.authenticate_user()\n",
    "elif environment_type == \"databricks\":\n",
    "    from pyspark.sql import SparkSession\n",
    "elif environment_type == \"local\":\n",
    "    from google.cloud import bigquery, exceptions\n",
    "else:\n",
    "    print(\"No extra imports\")\n"
   ],
   "outputs": [],
   "execution_count": null
  },
  {
   "cell_type": "markdown",
   "metadata": {
    "application/vnd.databricks.v1+cell": {
     "cellMetadata": {},
     "inputWidgets": {},
     "nuid": "0fb22533-244e-47fa-bb6f-a04e544e4602",
     "showTitle": false,
     "title": ""
    }
   },
   "source": [
    "### Define source dataset"
   ]
  },
  {
   "cell_type": "code",
   "metadata": {
    "application/vnd.databricks.v1+cell": {
     "cellMetadata": {
      "byteLimit": 2048000,
      "rowLimit": 10000
     },
     "inputWidgets": {},
     "nuid": "201aed74-4e59-40fa-9c75-273ba2513af2",
     "showTitle": false,
     "title": ""
    }
   },
   "source": [
    "\n",
    "if not ACCOUNT_ID or ACCOUNT_ID == \"[your-account-id]\":\n",
    "    raise ValueError(\"Please set your ACCOUNT_ID\")\n",
    "\n",
    "if environment_type == \"colab\" or environment_type == \"local\":\n",
    "    src_project = 'crisp-frontier-dev'\n",
    "    src_dataset = f\"analytics_blueprints_{ACCOUNT_ID}\"\n",
    "elif environment_type == \"databricks\":\n",
    "    src_project = 'prod'\n",
    "    if not CONNECTOR_ID or CONNECTOR_ID == \"[your-connector-id]\":\n",
    "        raise ValueError(\"Please set your CONNECTOR_ID\")\n",
    "    src_dataset = f\"schema_{ACCOUNT_ID}_{CONNECTOR_ID}\"\n",
    "elif environment_type == \"local\":\n",
    "    src_project = 'crisp-frontier-dev'\n",
    "    src_dataset = f\"analytics_blueprints_{ACCOUNT_ID}\"\n",
    "else:\n",
    "    print(\"No extra imports\")\n"
   ],
   "outputs": [],
   "execution_count": null
  },
  {
   "metadata": {
    "application/vnd.databricks.v1+cell": {
     "cellMetadata": {},
     "inputWidgets": {},
     "nuid": "506471e0-9915-4113-9864-85c0555c52e2",
     "showTitle": false,
     "title": ""
    }
   },
   "cell_type": "markdown",
   "source": "### Loading data into DataFrame depending on the environment"
  },
  {
   "metadata": {
    "application/vnd.databricks.v1+cell": {
     "cellMetadata": {
      "byteLimit": 2048000,
      "rowLimit": 10000
     },
     "inputWidgets": {},
     "nuid": "42f8acc1-bb6a-4551-8ab5-6b9ac07e45a1",
     "showTitle": false,
     "title": ""
    }
   },
   "cell_type": "code",
   "source": [
    "from IPython.core.magic import register_cell_magic\n",
    "\n",
    "\n",
    "@register_cell_magic\n",
    "def load_data(line, cell):\n",
    "\n",
    "    global_vars = globals()\n",
    "\n",
    "    formatted_query = cell.format(**global_vars)\n",
    "\n",
    "    if environment_type == \"colab\":\n",
    "        client = bigquery.Client(project=src_project)\n",
    "        query_job = client.query(formatted_query)\n",
    "        df = query_job.result().to_dataframe()\n",
    "    elif environment_type == \"local\":\n",
    "        client = bigquery.Client()\n",
    "        query_job = client.query(formatted_query)\n",
    "        df = query_job.result().to_dataframe()\n",
    "    elif environment_type == \"databricks\":\n",
    "        spark = SparkSession.builder.getOrCreate()\n",
    "        df = spark.sql(formatted_query).toPandas()\n",
    "    else:\n",
    "        raise ValueError(\"Unsupported environment\")\n",
    "\n",
    "    if line:\n",
    "        globals()[line.strip()] = df\n",
    "    else:\n",
    "        return df"
   ],
   "outputs": [],
   "execution_count": null
  },
  {
   "cell_type": "markdown",
   "metadata": {
    "application/vnd.databricks.v1+cell": {
     "cellMetadata": {},
     "inputWidgets": {},
     "nuid": "559a934b-249e-4c3b-a4d6-1663249d9d4e",
     "showTitle": false,
     "title": ""
    }
   },
   "source": [
    "### Load data into a dataframe"
   ]
  },
  {
   "cell_type": "code",
   "metadata": {
    "application/vnd.databricks.v1+cell": {
     "cellMetadata": {
      "byteLimit": 2048000,
      "rowLimit": 10000
     },
     "inputWidgets": {},
     "nuid": "18376142-b0e3-4fd2-b133-5113df71f859",
     "showTitle": false,
     "title": ""
    }
   },
   "source": [
    "src_table = 'normalized_unfi_fact_sales'"
   ],
   "outputs": [],
   "execution_count": null
  },
  {
   "cell_type": "code",
   "metadata": {
    "application/vnd.databricks.v1+cell": {
     "cellMetadata": {
      "byteLimit": 2048000,
      "rowLimit": 10000
     },
     "inputWidgets": {},
     "nuid": "5b30ef6f-b6dd-4176-91d8-e798d8ca5cdc",
     "showTitle": false,
     "title": ""
    }
   },
   "source": [
    "%%load_data df\n",
    "SELECT * FROM `{src_project}`.`{src_dataset}`.`{src_table}` LIMIT 10"
   ],
   "outputs": [],
   "execution_count": null
  },
  {
   "cell_type": "code",
   "metadata": {
    "application/vnd.databricks.v1+cell": {
     "cellMetadata": {
      "byteLimit": 2048000,
      "rowLimit": 10000
     },
     "inputWidgets": {},
     "nuid": "b80f5925-1267-4ef7-b6d9-b9ad9b0c2b0c",
     "showTitle": false,
     "title": ""
    }
   },
   "source": [
    "display(df)"
   ],
   "outputs": [],
   "execution_count": null
  }
 ],
 "metadata": {
  "application/vnd.databricks.v1+notebook": {
   "dashboards": [],
   "environmentMetadata": null,
   "language": "python",
   "notebookMetadata": {
    "pythonIndentUnit": 4
   },
   "notebookName": "crisp_basics",
   "widgets": {}
  },
  "kernelspec": {
   "display_name": "Python 3",
   "language": "python",
   "name": "python3"
  },
  "language_info": {
   "codemirror_mode": {
    "name": "ipython",
    "version": 3
   },
   "file_extension": ".py",
   "mimetype": "text/x-python",
   "name": "python",
   "nbconvert_exporter": "python",
   "pygments_lexer": "ipython3",
   "version": "3.6.4"
  }
 },
 "nbformat": 4,
 "nbformat_minor": 0
}
