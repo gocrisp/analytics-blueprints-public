{
 "cells": [
  {
   "cell_type": "markdown",
   "id": "a0e5b6b9",
   "metadata": {},
   "source": [
    "# Anomaly Detection on Sales and Inventory Data\n",
    "\n",
    "[![Open in Colab](https://img.shields.io/badge/Open%20in-Colab-orange?logo=google-colab&style=for-the-badge)](https://colab.research.google.com/github/gocrisp/analytics-blueprints-public/blob/main/notebooks/crisp_anomaly_detection.ipynb)\n",
    "[![Open in Vertex AI](https://img.shields.io/badge/Open%20in-Vertex%20AI%20Workbench-brightgreen?logo=google-cloud&style=for-the-badge)](https://console.cloud.google.com/vertex-ai/notebooks/deploy-notebook?download_url=https://raw.githubusercontent.com/gocrisp/analytics-blueprints-public/main/notebooks/crisp_anomaly_detection.ipynb)\n",
    "[![Open in Databricks](https://img.shields.io/badge/databricks-red?logo=databricks&style=for-the-badge)](https://www.databricks.com/try-databricks)\n",
    "[![View on GitHub](https://img.shields.io/badge/View%20on-GitHub-lightgrey?logo=github&style=for-the-badge)](https://github.com/gocrisp/analytics-blueprints-public/blob/main/notebooks/crisp_anomaly_detection.ipynb)\n",
    "\n",
    "This notebook demonstrates how to perform naive outlier detection on sales and inventory data using z-scores. We will identify data points that are considered anomalies based on the criterion that their z-score exceeds |3.5| within time windows of sufficient size."
   ]
  },
  {
   "metadata": {},
   "cell_type": "markdown",
   "source": "## Set the required environment variables",
   "id": "fde1d3d22790d866"
  },
  {
   "metadata": {
    "ExecuteTime": {
     "end_time": "2024-11-18T00:16:32.180347Z",
     "start_time": "2024-11-18T00:16:32.178935Z"
    }
   },
   "cell_type": "code",
   "source": [
    "import os\n",
    "\n",
    "os.environ[\"ACCOUNT_ID\"] = \"80047\"\n",
    "# os.environ[\"CONNECTOR_ID\"] = \"\" # optional\n",
    "\n",
    "fact_sales_table = \"exp_harmonized_retailer_fact_sales\"\n",
    "fact_inventory_table = \"exp_harmonized_retailer_fact_inventory_store\""
   ],
   "id": "d7e8f597480edc2a",
   "outputs": [],
   "execution_count": 1
  },
  {
   "metadata": {},
   "cell_type": "markdown",
   "source": [
    "### Run Crisp common\n",
    "\n",
    "This notebook uses the [crisp_common.ipynb](./crisp_common.ipynb) notebook to load the common functions and variables. The `crisp_common.ipynb` notebook contains the common functions and variables that are used across the Crisp notebooks."
   ],
   "id": "6f747ab78b09f2f9"
  },
  {
   "metadata": {},
   "cell_type": "code",
   "source": [
    "import os\n",
    "\n",
    "if not os.path.exists(\"crisp_common.ipynb\"):\n",
    "    print(\"Downloading crisp_common.ipynb\")\n",
    "    !wget https://raw.githubusercontent.com/gocrisp/analytics-blueprints-public/main/notebooks/crisp_common.ipynb -O crisp_common.ipynb\n",
    "else:\n",
    "    print(\"crisp_common.ipynb already exists\")\n",
    "\n",
    "%run crisp_common.ipynb"
   ],
   "id": "27a56c2047734eae",
   "outputs": [],
   "execution_count": null
  },
  {
   "metadata": {},
   "cell_type": "markdown",
   "source": "## Run extra imports",
   "id": "979232c881565e62"
  },
  {
   "metadata": {
    "ExecuteTime": {
     "end_time": "2024-11-18T00:16:33.848725Z",
     "start_time": "2024-11-18T00:16:33.846998Z"
    }
   },
   "cell_type": "code",
   "source": [
    "import matplotlib.pyplot as plt\n",
    "import numpy as np\n",
    "import seaborn as sns\n",
    "from scipy.stats import zscore"
   ],
   "id": "8ecc381a00da0bb2",
   "outputs": [],
   "execution_count": 3
  },
  {
   "cell_type": "markdown",
   "id": "d7085e19",
   "metadata": {},
   "source": [
    "### Load the data from BigQuery\n",
    "\n",
    "We'll load data from the `fact_sales` and `fact_inventory` tables."
   ]
  },
  {
   "cell_type": "code",
   "id": "ce29e8ae",
   "metadata": {
    "ExecuteTime": {
     "end_time": "2024-11-18T00:17:29.137724Z",
     "start_time": "2024-11-18T00:16:33.852688Z"
    }
   },
   "source": [
    "%%load sales_df\n",
    "SELECT\n",
    "    DATE(date_key) AS date,\n",
    "    DATE_TRUNC(DATE(date_key), MONTH) AS time_window,\n",
    "    store_id,\n",
    "    product_id,\n",
    "    sales_quantity\n",
    "FROM\n",
    "    `{project}.{dataset}.{fact_sales_table}`\n",
    "WHERE\n",
    "    sales_quantity IS NOT NULL"
   ],
   "outputs": [],
   "execution_count": 4
  },
  {
   "cell_type": "code",
   "id": "6231aa49fdb2581d",
   "metadata": {
    "ExecuteTime": {
     "end_time": "2024-11-18T00:18:47.357537Z",
     "start_time": "2024-11-18T00:17:29.143936Z"
    }
   },
   "source": [
    "%%load inventory_df\n",
    "SELECT\n",
    "    DATE(date_key) AS date,\n",
    "    DATE_TRUNC(DATE(date_key), MONTH) AS time_window,\n",
    "    store_id,\n",
    "    product_id,\n",
    "    on_hand_quantity AS inventory_quantity\n",
    "FROM\n",
    "    `{project}.{dataset}.{fact_inventory_table}`\n",
    "WHERE\n",
    "    on_hand_quantity IS NOT NULL"
   ],
   "outputs": [],
   "execution_count": 5
  },
  {
   "cell_type": "markdown",
   "id": "9e72e7f1",
   "metadata": {},
   "source": [
    "### Perform anomaly detection using z-scores\n",
    "\n",
    "For each time window and product, we'll compute the z-score of `sales_quantity` and identify outliers where the absolute z-score exceeds 3.5."
   ]
  },
  {
   "metadata": {
    "ExecuteTime": {
     "end_time": "2024-11-18T00:19:13.641443Z",
     "start_time": "2024-11-18T00:18:47.367469Z"
    }
   },
   "cell_type": "code",
   "source": [
    "# Function to compute z-scores and identify outliers\n",
    "def detect_outliers(group):\n",
    "    if len(group) > 30:\n",
    "        group[\"z_score\"] = zscore(group[\"sales_quantity\"])\n",
    "        group[\"outlier\"] = group[\"z_score\"].abs() > 3.5\n",
    "    else:\n",
    "        group[\"z_score\"] = np.nan\n",
    "        group[\"outlier\"] = False\n",
    "    return group\n",
    "\n",
    "sales_df[\"sales_quantity\"] = sales_df[\"sales_quantity\"].astype(float)\n",
    "\n",
    "# Apply the function to each product within each time window\n",
    "grouped_sales = (\n",
    "    sales_df.groupby([\"time_window\", \"product_id\"], as_index=False)\n",
    "    .apply(detect_outliers)\n",
    "    .reset_index(drop=True)\n",
    ")"
   ],
   "id": "7dc75674f0c1d5b2",
   "outputs": [
    {
     "name": "stderr",
     "output_type": "stream",
     "text": [
      "/var/folders/yc/tk8l4tpj03s23nsy68jphwxr0000gn/T/ipykernel_58522/3309237698.py:16: DeprecationWarning: DataFrameGroupBy.apply operated on the grouping columns. This behavior is deprecated, and in a future version of pandas the grouping columns will be excluded from the operation. Either pass `include_groups=False` to exclude the groupings or explicitly select the grouping columns after groupby to silence this warning.\n",
      "  .apply(detect_outliers)\n"
     ]
    }
   ],
   "execution_count": 6
  },
  {
   "metadata": {
    "ExecuteTime": {
     "end_time": "2024-11-18T00:19:19.098651Z",
     "start_time": "2024-11-18T00:19:13.644587Z"
    }
   },
   "cell_type": "code",
   "source": [
    "sales_anomalies = grouped_sales[grouped_sales[\"outlier\"]]\n",
    "sales_anomalies = (\n",
    "    sales_anomalies.groupby([\"product_id\", \"store_id\", \"time_window\"])\n",
    "    .last()\n",
    "    .reset_index()\n",
    ")\n",
    "\n",
    "print(f\"Number of anomalies detected in sales data: {len(sales_anomalies)}\")\n",
    "sales_anomalies.head()\n",
    "\n",
    "print(f\"Number of anomalies detected in sales data: {len(sales_anomalies)}\")\n",
    "print(f\"Total number of sales data points: {len(sales_df)}\")\n",
    "print(\n",
    "    f\"Anomalies as a percentage of total sales data: {len(sales_anomalies) / len(sales_df) * 100:.2f}%\"\n",
    ")"
   ],
   "id": "7374eb3bbd094c46",
   "outputs": [
    {
     "name": "stdout",
     "output_type": "stream",
     "text": [
      "Number of anomalies detected in sales data: 369457\n",
      "Number of anomalies detected in sales data: 369457\n",
      "Total number of sales data points: 38664499\n",
      "Anomalies as a percentage of total sales data: 0.96%\n"
     ]
    }
   ],
   "execution_count": 7
  },
  {
   "metadata": {},
   "cell_type": "markdown",
   "source": [
    "### Visualize the anomalies in sales data\n",
    "\n",
    "We can plot the sales quantities over time for a specific product and highlight the anomalies."
   ],
   "id": "c65907fdd82e7184"
  },
  {
   "metadata": {
    "ExecuteTime": {
     "end_time": "2024-11-18T00:19:20.470878Z",
     "start_time": "2024-11-18T00:19:19.106436Z"
    }
   },
   "cell_type": "code",
   "source": [
    "if not sales_anomalies.empty:\n",
    "    product_to_plot = sales_anomalies[\"product_id\"].iloc[0]\n",
    "    product_data = grouped_sales[grouped_sales[\"product_id\"] == product_to_plot].copy()\n",
    "\n",
    "    # Ensure 'outlier' is boolean\n",
    "    product_data[\"outlier\"] = product_data[\"outlier\"].astype(bool)\n",
    "\n",
    "    # Plot sales quantity over time\n",
    "    plt.figure(figsize=(12, 6))\n",
    "    sns.lineplot(\n",
    "        data=product_data, x=\"date\", y=\"sales_quantity\", label=\"Sales Quantity\"\n",
    "    )\n",
    "\n",
    "    # Plot anomalies\n",
    "    anomalies = product_data[product_data[\"outlier\"]]\n",
    "    sns.scatterplot(\n",
    "        data=anomalies,\n",
    "        x=\"date\",\n",
    "        y=\"sales_quantity\",\n",
    "        color=\"red\",\n",
    "        label=\"Anomalies\",\n",
    "        s=100,\n",
    "    )\n",
    "    plt.title(f\"Sales Quantity Over Time for Product {product_to_plot}\")\n",
    "    plt.xlabel(\"Date\")\n",
    "    plt.ylabel(\"Sales Quantity\")\n",
    "    plt.legend()\n",
    "    plt.show()\n",
    "else:\n",
    "    print(\"No anomalies detected to visualize.\")"
   ],
   "id": "3384214495c03348",
   "outputs": [
    {
     "data": {
      "text/plain": [
       "<Figure size 1200x600 with 1 Axes>"
      ],
      "image/png": "[encoded data removed]"
     },
     "metadata": {},
     "output_type": "display_data"
    }
   ],
   "execution_count": 8
  },
  {
   "cell_type": "markdown",
   "id": "caad30fa",
   "metadata": {},
   "source": [
    "### Perform anomaly detection on inventory data (if needed)\n",
    "\n",
    "You can apply the same process to the inventory data."
   ]
  },
  {
   "metadata": {
    "ExecuteTime": {
     "end_time": "2024-11-18T00:19:43.184837Z",
     "start_time": "2024-11-18T00:19:20.479122Z"
    }
   },
   "cell_type": "code",
   "source": [
    "# Function to compute z-scores and identify outliers\n",
    "def detect_outliers_inventory(group):\n",
    "    if len(group) > 30:\n",
    "        group[\"z_score\"] = zscore(group[\"inventory_quantity\"])\n",
    "        group[\"outlier\"] = group[\"z_score\"].abs() > 3.5\n",
    "    else:\n",
    "        group[\"z_score\"] = np.nan\n",
    "        group[\"outlier\"] = False\n",
    "    return group\n",
    "\n",
    "inventory_df[\"inventory_quantity\"] = inventory_df[\"inventory_quantity\"].astype(float)\n",
    "\n",
    "# Apply the function to each product within each time window\n",
    "grouped_inventory = (\n",
    "    inventory_df.groupby([\"time_window\", \"product_id\"], as_index=False)\n",
    "    .apply(detect_outliers_inventory)\n",
    "    .reset_index(drop=True)\n",
    ")"
   ],
   "id": "d3674e07fd3ed863",
   "outputs": [
    {
     "name": "stderr",
     "output_type": "stream",
     "text": [
      "/var/folders/yc/tk8l4tpj03s23nsy68jphwxr0000gn/T/ipykernel_58522/4262558697.py:16: DeprecationWarning: DataFrameGroupBy.apply operated on the grouping columns. This behavior is deprecated, and in a future version of pandas the grouping columns will be excluded from the operation. Either pass `include_groups=False` to exclude the groupings or explicitly select the grouping columns after groupby to silence this warning.\n",
      "  .apply(detect_outliers_inventory)\n"
     ]
    }
   ],
   "execution_count": 9
  },
  {
   "metadata": {},
   "cell_type": "markdown",
   "source": "### Examine the anomalies in inventory data",
   "id": "1960ad60d8dea492"
  },
  {
   "cell_type": "code",
   "id": "9ab6a85e",
   "metadata": {
    "ExecuteTime": {
     "end_time": "2024-11-18T00:19:43.692390Z",
     "start_time": "2024-11-18T00:19:43.193818Z"
    }
   },
   "source": [
    "inventory_anomalies = grouped_inventory[grouped_inventory[\"outlier\"]]\n",
    "inventory_anomalies = (\n",
    "    inventory_anomalies.groupby([\"product_id\", \"store_id\", \"time_window\"])\n",
    "    .last()\n",
    "    .reset_index()\n",
    ")\n",
    "\n",
    "print(f\"Number of anomalies detected in inventory data: {len(inventory_anomalies)}\")\n",
    "inventory_anomalies.head()\n",
    "\n",
    "print(f\"Number of anomalies detected in inventory data: {len(inventory_anomalies)}\")\n",
    "print(f\"Total number of inventory data points: {len(inventory_df)}\")\n",
    "print(\n",
    "    f\"Anomalies as a percentage of total inventory data: {len(inventory_anomalies) / len(inventory_df) * 100:.2f}%\"\n",
    ")"
   ],
   "outputs": [
    {
     "name": "stdout",
     "output_type": "stream",
     "text": [
      "Number of anomalies detected in inventory data: 27877\n",
      "Number of anomalies detected in inventory data: 27877\n",
      "Total number of inventory data points: 57300191\n",
      "Anomalies as a percentage of total inventory data: 0.05%\n"
     ]
    }
   ],
   "execution_count": 10
  },
  {
   "cell_type": "markdown",
   "id": "a4dd0bd8",
   "metadata": {},
   "source": [
    "### Visualize the anomalies in inventory data"
   ]
  },
  {
   "cell_type": "code",
   "id": "39907176",
   "metadata": {
    "ExecuteTime": {
     "end_time": "2024-11-18T00:19:44.293847Z",
     "start_time": "2024-11-18T00:19:43.703427Z"
    }
   },
   "source": [
    "# Choose a product to visualize\n",
    "if not inventory_anomalies.empty:\n",
    "    product_to_plot = inventory_anomalies[\"product_id\"].iloc[0]\n",
    "    product_data = grouped_inventory[\n",
    "        grouped_inventory[\"product_id\"] == product_to_plot\n",
    "    ].copy()\n",
    "\n",
    "    # Ensure 'outlier' is a boolean\n",
    "    product_data[\"outlier\"] = product_data[\"outlier\"].astype(bool)\n",
    "\n",
    "    # Plot inventory quantity over time\n",
    "    plt.figure(figsize=(12, 6))\n",
    "    sns.lineplot(\n",
    "        data=product_data, x=\"date\", y=\"inventory_quantity\", label=\"Inventory Quantity\"\n",
    "    )\n",
    "\n",
    "    # Plot anomalies\n",
    "    anomalies = product_data[product_data[\"outlier\"]]\n",
    "    # Add hover tooltip to red dots that has store_id\n",
    "    sns.scatterplot(\n",
    "        data=anomalies,\n",
    "        x=\"date\",\n",
    "        y=\"inventory_quantity\",\n",
    "        color=\"red\",\n",
    "        label=\"Anomalies\",\n",
    "        s=100,\n",
    "    )\n",
    "\n",
    "    plt.title(f\"Inventory Quantity Over Time for Product {product_to_plot}\")\n",
    "    plt.xlabel(\"Date\")\n",
    "    plt.ylabel(\"Inventory Quantity\")\n",
    "    plt.legend()\n",
    "    plt.show()\n",
    "else:\n",
    "    print(\"No anomalies detected to visualize.\")"
   ],
   "outputs": [
    {
     "data": {
      "text/plain": [
       "<Figure size 1200x600 with 1 Axes>"
      ],
      "image/png": "[encoded data removed]"
     },
     "metadata": {},
     "output_type": "display_data"
    }
   ],
   "execution_count": 11
  },
  {
   "cell_type": "markdown",
   "id": "3b5c8bd9",
   "metadata": {},
   "source": "### Save or report the anomalies"
  },
  {
   "cell_type": "markdown",
   "id": "ab773afa",
   "metadata": {},
   "source": [
    "#### Save anomalies to CSV files"
   ]
  },
  {
   "cell_type": "code",
   "id": "3271ef62",
   "metadata": {
    "ExecuteTime": {
     "end_time": "2024-11-18T00:19:46.468320Z",
     "start_time": "2024-11-18T00:19:44.303401Z"
    }
   },
   "source": [
    "# Save sales anomalies to a CSV file\n",
    "sales_anomalies.to_csv(\"sales_anomalies.csv\", index=False)\n",
    "print(\"Sales anomalies saved to 'sales_anomalies.csv'.\")\n",
    "\n",
    "# Save inventory anomalies to a CSV file\n",
    "inventory_anomalies.to_csv(\"inventory_anomalies.csv\", index=False)\n",
    "print(\"Inventory anomalies saved to 'inventory_anomalies.csv'.\")"
   ],
   "outputs": [
    {
     "name": "stdout",
     "output_type": "stream",
     "text": [
      "Sales anomalies saved to 'sales_anomalies.csv'.\n",
      "Inventory anomalies saved to 'inventory_anomalies.csv'.\n"
     ]
    }
   ],
   "execution_count": 12
  },
  {
   "cell_type": "markdown",
   "id": "3e15bdcf",
   "metadata": {},
   "source": "#### Save anomalies to your data warehouse"
  },
  {
   "metadata": {
    "ExecuteTime": {
     "end_time": "2024-11-18T00:19:46.482558Z",
     "start_time": "2024-11-18T00:19:46.477438Z"
    }
   },
   "cell_type": "code",
   "source": "sales_anomalies",
   "id": "c0573ce6229d2949",
   "outputs": [
    {
     "data": {
      "text/plain": [
       "                 product_id             store_id time_window        date  \\\n",
       "0           694583400925197    43897245528978849  2022-01-01  2022-01-09   \n",
       "1           694583400925197  7455363607872497698  2021-06-01  2021-06-27   \n",
       "2           694583400925197  7455363607872497698  2021-09-01  2021-09-29   \n",
       "3           694583400925197  7455363607872497698  2021-12-01  2021-12-07   \n",
       "4           694583400925197  7455363607872497698  2022-04-01  2022-04-09   \n",
       "...                     ...                  ...         ...         ...   \n",
       "369452  9218209562277089463  8910870284304508627  2023-09-01  2023-09-18   \n",
       "369453  9218209562277089463  8926890317301298570  2023-08-01  2023-08-27   \n",
       "369454  9218209562277089463  8938153192156326512  2023-09-01  2023-09-17   \n",
       "369455  9218209562277089463  9201012415016624068  2023-08-01  2023-08-26   \n",
       "369456  9218209562277089463  9201012415016624068  2023-09-01  2023-09-17   \n",
       "\n",
       "        sales_quantity   z_score  outlier  \n",
       "0                -12.0 -3.920297     True  \n",
       "1                 14.0  4.053127     True  \n",
       "2                 35.0  5.563950     True  \n",
       "3                 11.0  4.194140     True  \n",
       "4                 24.0  5.050883     True  \n",
       "...                ...       ...      ...  \n",
       "369452             4.0  3.845485     True  \n",
       "369453             6.0  6.404691     True  \n",
       "369454             4.0  3.845485     True  \n",
       "369455             4.0  3.645114     True  \n",
       "369456             4.0  3.845485     True  \n",
       "\n",
       "[369457 rows x 7 columns]"
      ],
      "text/html": [
       "<div>\n",
       "<style scoped>\n",
       "    .dataframe tbody tr th:only-of-type {\n",
       "        vertical-align: middle;\n",
       "    }\n",
       "\n",
       "    .dataframe tbody tr th {\n",
       "        vertical-align: top;\n",
       "    }\n",
       "\n",
       "    .dataframe thead th {\n",
       "        text-align: right;\n",
       "    }\n",
       "</style>\n",
       "<table border=\"1\" class=\"dataframe\">\n",
       "  <thead>\n",
       "    <tr style=\"text-align: right;\">\n",
       "      <th></th>\n",
       "      <th>product_id</th>\n",
       "      <th>store_id</th>\n",
       "      <th>time_window</th>\n",
       "      <th>date</th>\n",
       "      <th>sales_quantity</th>\n",
       "      <th>z_score</th>\n",
       "      <th>outlier</th>\n",
       "    </tr>\n",
       "  </thead>\n",
       "  <tbody>\n",
       "    <tr>\n",
       "      <th>0</th>\n",
       "      <td>694583400925197</td>\n",
       "      <td>43897245528978849</td>\n",
       "      <td>2022-01-01</td>\n",
       "      <td>2022-01-09</td>\n",
       "      <td>-12.0</td>\n",
       "      <td>-3.920297</td>\n",
       "      <td>True</td>\n",
       "    </tr>\n",
       "    <tr>\n",
       "      <th>1</th>\n",
       "      <td>694583400925197</td>\n",
       "      <td>7455363607872497698</td>\n",
       "      <td>2021-06-01</td>\n",
       "      <td>2021-06-27</td>\n",
       "      <td>14.0</td>\n",
       "      <td>4.053127</td>\n",
       "      <td>True</td>\n",
       "    </tr>\n",
       "    <tr>\n",
       "      <th>2</th>\n",
       "      <td>694583400925197</td>\n",
       "      <td>7455363607872497698</td>\n",
       "      <td>2021-09-01</td>\n",
       "      <td>2021-09-29</td>\n",
       "      <td>35.0</td>\n",
       "      <td>5.563950</td>\n",
       "      <td>True</td>\n",
       "    </tr>\n",
       "    <tr>\n",
       "      <th>3</th>\n",
       "      <td>694583400925197</td>\n",
       "      <td>7455363607872497698</td>\n",
       "      <td>2021-12-01</td>\n",
       "      <td>2021-12-07</td>\n",
       "      <td>11.0</td>\n",
       "      <td>4.194140</td>\n",
       "      <td>True</td>\n",
       "    </tr>\n",
       "    <tr>\n",
       "      <th>4</th>\n",
       "      <td>694583400925197</td>\n",
       "      <td>7455363607872497698</td>\n",
       "      <td>2022-04-01</td>\n",
       "      <td>2022-04-09</td>\n",
       "      <td>24.0</td>\n",
       "      <td>5.050883</td>\n",
       "      <td>True</td>\n",
       "    </tr>\n",
       "    <tr>\n",
       "      <th>...</th>\n",
       "      <td>...</td>\n",
       "      <td>...</td>\n",
       "      <td>...</td>\n",
       "      <td>...</td>\n",
       "      <td>...</td>\n",
       "      <td>...</td>\n",
       "      <td>...</td>\n",
       "    </tr>\n",
       "    <tr>\n",
       "      <th>369452</th>\n",
       "      <td>9218209562277089463</td>\n",
       "      <td>8910870284304508627</td>\n",
       "      <td>2023-09-01</td>\n",
       "      <td>2023-09-18</td>\n",
       "      <td>4.0</td>\n",
       "      <td>3.845485</td>\n",
       "      <td>True</td>\n",
       "    </tr>\n",
       "    <tr>\n",
       "      <th>369453</th>\n",
       "      <td>9218209562277089463</td>\n",
       "      <td>8926890317301298570</td>\n",
       "      <td>2023-08-01</td>\n",
       "      <td>2023-08-27</td>\n",
       "      <td>6.0</td>\n",
       "      <td>6.404691</td>\n",
       "      <td>True</td>\n",
       "    </tr>\n",
       "    <tr>\n",
       "      <th>369454</th>\n",
       "      <td>9218209562277089463</td>\n",
       "      <td>8938153192156326512</td>\n",
       "      <td>2023-09-01</td>\n",
       "      <td>2023-09-17</td>\n",
       "      <td>4.0</td>\n",
       "      <td>3.845485</td>\n",
       "      <td>True</td>\n",
       "    </tr>\n",
       "    <tr>\n",
       "      <th>369455</th>\n",
       "      <td>9218209562277089463</td>\n",
       "      <td>9201012415016624068</td>\n",
       "      <td>2023-08-01</td>\n",
       "      <td>2023-08-26</td>\n",
       "      <td>4.0</td>\n",
       "      <td>3.645114</td>\n",
       "      <td>True</td>\n",
       "    </tr>\n",
       "    <tr>\n",
       "      <th>369456</th>\n",
       "      <td>9218209562277089463</td>\n",
       "      <td>9201012415016624068</td>\n",
       "      <td>2023-09-01</td>\n",
       "      <td>2023-09-17</td>\n",
       "      <td>4.0</td>\n",
       "      <td>3.845485</td>\n",
       "      <td>True</td>\n",
       "    </tr>\n",
       "  </tbody>\n",
       "</table>\n",
       "<p>369457 rows × 7 columns</p>\n",
       "</div>"
      ]
     },
     "execution_count": 13,
     "metadata": {},
     "output_type": "execute_result"
    }
   ],
   "execution_count": 13
  },
  {
   "metadata": {
    "ExecuteTime": {
     "end_time": "2024-11-18T00:19:56.305259Z",
     "start_time": "2024-11-18T00:19:46.506236Z"
    }
   },
   "cell_type": "code",
   "source": [
    "%%save {project}.{dataset}.sales_anomalies\n",
    "sales_anomalies"
   ],
   "id": "ace2884f306484ff",
   "outputs": [],
   "execution_count": 14
  },
  {
   "metadata": {
    "ExecuteTime": {
     "end_time": "2024-11-18T00:19:56.348879Z",
     "start_time": "2024-11-18T00:19:56.342864Z"
    }
   },
   "cell_type": "code",
   "source": "inventory_anomalies",
   "id": "398ebd897cd154d9",
   "outputs": [
    {
     "data": {
      "text/plain": [
       "                product_id             store_id time_window        date  \\\n",
       "0        75351161180326194  3219627019937845776  2023-10-01  2023-10-29   \n",
       "1        75351161180326194  3219627019937845776  2023-11-01  2023-11-28   \n",
       "2        75351161180326194  3219627019937845776  2023-12-01  2023-12-02   \n",
       "3        75351161180326194  3645452380602234202  2023-10-01  2023-10-27   \n",
       "4        75351161180326194  3645452380602234202  2023-11-01  2023-11-05   \n",
       "...                    ...                  ...         ...         ...   \n",
       "27872  9212139262863234961  8520901116193434983  2023-11-01  2023-11-08   \n",
       "27873  9212139262863234961  8520901116193434983  2023-12-01  2023-12-03   \n",
       "27874  9212139262863234961  8710151477965104692  2023-10-01  2023-10-27   \n",
       "27875  9212139262863234961  8844127078768378814  2023-10-01  2023-10-26   \n",
       "27876  9212139262863234961  8943589227529458100  2023-10-01  2023-10-26   \n",
       "\n",
       "       inventory_quantity   z_score  outlier  \n",
       "0                    13.0  4.704457     True  \n",
       "1                    13.0  4.704430     True  \n",
       "2                    13.0  4.703663     True  \n",
       "3                    14.0  5.122612     True  \n",
       "4                    14.0  5.122578     True  \n",
       "...                   ...       ...      ...  \n",
       "27872                19.0  4.041777     True  \n",
       "27873                19.0  4.530177     True  \n",
       "27874                59.0  3.711614     True  \n",
       "27875                65.0  4.156154     True  \n",
       "27876                68.0  4.378424     True  \n",
       "\n",
       "[27877 rows x 7 columns]"
      ],
      "text/html": [
       "<div>\n",
       "<style scoped>\n",
       "    .dataframe tbody tr th:only-of-type {\n",
       "        vertical-align: middle;\n",
       "    }\n",
       "\n",
       "    .dataframe tbody tr th {\n",
       "        vertical-align: top;\n",
       "    }\n",
       "\n",
       "    .dataframe thead th {\n",
       "        text-align: right;\n",
       "    }\n",
       "</style>\n",
       "<table border=\"1\" class=\"dataframe\">\n",
       "  <thead>\n",
       "    <tr style=\"text-align: right;\">\n",
       "      <th></th>\n",
       "      <th>product_id</th>\n",
       "      <th>store_id</th>\n",
       "      <th>time_window</th>\n",
       "      <th>date</th>\n",
       "      <th>inventory_quantity</th>\n",
       "      <th>z_score</th>\n",
       "      <th>outlier</th>\n",
       "    </tr>\n",
       "  </thead>\n",
       "  <tbody>\n",
       "    <tr>\n",
       "      <th>0</th>\n",
       "      <td>75351161180326194</td>\n",
       "      <td>3219627019937845776</td>\n",
       "      <td>2023-10-01</td>\n",
       "      <td>2023-10-29</td>\n",
       "      <td>13.0</td>\n",
       "      <td>4.704457</td>\n",
       "      <td>True</td>\n",
       "    </tr>\n",
       "    <tr>\n",
       "      <th>1</th>\n",
       "      <td>75351161180326194</td>\n",
       "      <td>3219627019937845776</td>\n",
       "      <td>2023-11-01</td>\n",
       "      <td>2023-11-28</td>\n",
       "      <td>13.0</td>\n",
       "      <td>4.704430</td>\n",
       "      <td>True</td>\n",
       "    </tr>\n",
       "    <tr>\n",
       "      <th>2</th>\n",
       "      <td>75351161180326194</td>\n",
       "      <td>3219627019937845776</td>\n",
       "      <td>2023-12-01</td>\n",
       "      <td>2023-12-02</td>\n",
       "      <td>13.0</td>\n",
       "      <td>4.703663</td>\n",
       "      <td>True</td>\n",
       "    </tr>\n",
       "    <tr>\n",
       "      <th>3</th>\n",
       "      <td>75351161180326194</td>\n",
       "      <td>3645452380602234202</td>\n",
       "      <td>2023-10-01</td>\n",
       "      <td>2023-10-27</td>\n",
       "      <td>14.0</td>\n",
       "      <td>5.122612</td>\n",
       "      <td>True</td>\n",
       "    </tr>\n",
       "    <tr>\n",
       "      <th>4</th>\n",
       "      <td>75351161180326194</td>\n",
       "      <td>3645452380602234202</td>\n",
       "      <td>2023-11-01</td>\n",
       "      <td>2023-11-05</td>\n",
       "      <td>14.0</td>\n",
       "      <td>5.122578</td>\n",
       "      <td>True</td>\n",
       "    </tr>\n",
       "    <tr>\n",
       "      <th>...</th>\n",
       "      <td>...</td>\n",
       "      <td>...</td>\n",
       "      <td>...</td>\n",
       "      <td>...</td>\n",
       "      <td>...</td>\n",
       "      <td>...</td>\n",
       "      <td>...</td>\n",
       "    </tr>\n",
       "    <tr>\n",
       "      <th>27872</th>\n",
       "      <td>9212139262863234961</td>\n",
       "      <td>8520901116193434983</td>\n",
       "      <td>2023-11-01</td>\n",
       "      <td>2023-11-08</td>\n",
       "      <td>19.0</td>\n",
       "      <td>4.041777</td>\n",
       "      <td>True</td>\n",
       "    </tr>\n",
       "    <tr>\n",
       "      <th>27873</th>\n",
       "      <td>9212139262863234961</td>\n",
       "      <td>8520901116193434983</td>\n",
       "      <td>2023-12-01</td>\n",
       "      <td>2023-12-03</td>\n",
       "      <td>19.0</td>\n",
       "      <td>4.530177</td>\n",
       "      <td>True</td>\n",
       "    </tr>\n",
       "    <tr>\n",
       "      <th>27874</th>\n",
       "      <td>9212139262863234961</td>\n",
       "      <td>8710151477965104692</td>\n",
       "      <td>2023-10-01</td>\n",
       "      <td>2023-10-27</td>\n",
       "      <td>59.0</td>\n",
       "      <td>3.711614</td>\n",
       "      <td>True</td>\n",
       "    </tr>\n",
       "    <tr>\n",
       "      <th>27875</th>\n",
       "      <td>9212139262863234961</td>\n",
       "      <td>8844127078768378814</td>\n",
       "      <td>2023-10-01</td>\n",
       "      <td>2023-10-26</td>\n",
       "      <td>65.0</td>\n",
       "      <td>4.156154</td>\n",
       "      <td>True</td>\n",
       "    </tr>\n",
       "    <tr>\n",
       "      <th>27876</th>\n",
       "      <td>9212139262863234961</td>\n",
       "      <td>8943589227529458100</td>\n",
       "      <td>2023-10-01</td>\n",
       "      <td>2023-10-26</td>\n",
       "      <td>68.0</td>\n",
       "      <td>4.378424</td>\n",
       "      <td>True</td>\n",
       "    </tr>\n",
       "  </tbody>\n",
       "</table>\n",
       "<p>27877 rows × 7 columns</p>\n",
       "</div>"
      ]
     },
     "execution_count": 15,
     "metadata": {},
     "output_type": "execute_result"
    }
   ],
   "execution_count": 15
  },
  {
   "metadata": {
    "ExecuteTime": {
     "end_time": "2024-11-18T00:20:04.082835Z",
     "start_time": "2024-11-18T00:19:56.377519Z"
    }
   },
   "cell_type": "code",
   "source": [
    "%%save {project}.{dataset}.inventory_anomalies\n",
    "inventory_anomalies"
   ],
   "id": "e9ed4f1fefffd29c",
   "outputs": [],
   "execution_count": 16
  }
 ],
 "metadata": {
  "kernelspec": {
   "display_name": "Python 3",
   "language": "python",
   "name": "python3"
  },
  "language_info": {
   "codemirror_mode": {
    "name": "ipython",
    "version": "3"
   },
   "file_extension": ".py",
   "mimetype": "text/x-python",
   "name": "python",
   "nbconvert_exporter": "python",
   "pygments_lexer": "ipython3",
   "version": "3.8"
  }
 },
 "nbformat": 4,
 "nbformat_minor": 5
}
