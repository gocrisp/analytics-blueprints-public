{
 "cells": [
  {
   "cell_type": "markdown",
   "id": "a0e5b6b9",
   "metadata": {},
   "source": [
    "# Anomaly Detection on Sales and Inventory Data\n",
    "\n",
    "[![Open in Colab](https://img.shields.io/badge/Open%20in-Colab-orange?logo=google-colab&style=for-the-badge)](https://colab.research.google.com/github/gocrisp/blueprints/blob/main/notebooks/crisp_anomaly_detection.ipynb)\n",
    "[![Open in Vertex AI](https://img.shields.io/badge/Open%20in-Vertex%20AI%20Workbench-brightgreen?logo=google-cloud&style=for-the-badge)](https://console.cloud.google.com/vertex-ai/notebooks/deploy-notebook?download_url=https://raw.githubusercontent.com/gocrisp/blueprints/main/notebooks/crisp_anomaly_detection.ipynb)\n",
    "[![Open in Databricks](https://img.shields.io/badge/databricks-red?logo=databricks&style=for-the-badge)](https://www.databricks.com/try-databricks)\n",
    "[![View on GitHub](https://img.shields.io/badge/View%20on-GitHub-lightgrey?logo=github&style=for-the-badge)](https://github.com/gocrisp/blueprints/blob/main/notebooks/crisp_anomaly_detection.ipynb)\n",
    "\n",
    "Detecting anomalies in your data can help you identify unexpected patterns like stockouts, sales spikes, or pricing errors, so you can take action to improve inefficiencies, capitalize on gains, or address problems. This notebook demonstrates how to perform naive outlier detection on sales and inventory data using z-scores. We will identify data points that are considered anomalies based on the criterion that their z-score exceeds |3.5| within time windows of sufficient size."
   ]
  },
  {
   "metadata": {},
   "cell_type": "markdown",
   "source": "## Set the required environment variables",
   "id": "fde1d3d22790d866"
  },
  {
   "metadata": {
    "ExecuteTime": {
     "end_time": "2024-12-03T12:18:19.001303Z",
     "start_time": "2024-12-03T12:18:18.999858Z"
    }
   },
   "cell_type": "code",
   "source": [
    "import os\n",
    "\n",
    "os.environ[\"ACCOUNT_ID\"] = \"80047\"\n",
    "# os.environ[\"CONNECTOR_ID\"] = \"\" # optional\n",
    "\n",
    "fact_sales_table = \"exp_harmonized_retailer_fact_sales\"\n",
    "fact_inventory_table = \"exp_harmonized_retailer_fact_inventory_store\"\n",
    "\n",
    "retailer = \"home_depot\""
   ],
   "id": "3abe3ce8a81846ba",
   "outputs": [],
   "execution_count": 1
  },
  {
   "metadata": {},
   "cell_type": "markdown",
   "source": [
    "### Run Crisp common\n",
    "\n",
    "This notebook uses the [crisp_common.ipynb](./crisp_common.ipynb) notebook to load the common functions and variables. The `crisp_common.ipynb` notebook contains the common functions and variables that are used across Crisp notebooks."
   ],
   "id": "402a550ad0938b11"
  },
  {
   "metadata": {},
   "cell_type": "code",
   "outputs": [],
   "execution_count": null,
   "source": [
    "import os\n",
    "\n",
    "if not os.path.exists(\"crisp_common.ipynb\"):\n",
    "    print(\"Downloading crisp_common.ipynb\")\n",
    "    !wget https://raw.githubusercontent.com/gocrisp/blueprints/main/notebooks/crisp_common.ipynb -O crisp_common.ipynb\n",
    "else:\n",
    "    print(\"crisp_common.ipynb already exists\")\n",
    "\n",
    "%run crisp_common.ipynb"
   ],
   "id": "2714727583f92b5c"
  },
  {
   "metadata": {},
   "cell_type": "markdown",
   "source": "## Run extra imports",
   "id": "979232c881565e62"
  },
  {
   "metadata": {
    "ExecuteTime": {
     "end_time": "2024-12-03T12:18:20.799726Z",
     "start_time": "2024-12-03T12:18:20.797939Z"
    }
   },
   "cell_type": "code",
   "source": [
    "import matplotlib.pyplot as plt\n",
    "import numpy as np\n",
    "import seaborn as sns\n",
    "from scipy.stats import zscore"
   ],
   "id": "8ecc381a00da0bb2",
   "outputs": [],
   "execution_count": 3
  },
  {
   "cell_type": "markdown",
   "id": "d7085e19",
   "metadata": {},
   "source": [
    "### Load the data from BigQuery\n",
    "\n",
    "We'll load data from the `fact_sales` and `fact_inventory` tables."
   ]
  },
  {
   "metadata": {
    "ExecuteTime": {
     "end_time": "2024-12-03T12:18:34.889848Z",
     "start_time": "2024-12-03T12:18:20.803274Z"
    }
   },
   "cell_type": "code",
   "source": [
    "%%load sales_df\n",
    "SELECT\n",
    "    DATE(date_key) AS date,\n",
    "    DATE_TRUNC(DATE(date_key), MONTH) AS time_window,\n",
    "    store_id,\n",
    "    product_id,\n",
    "    sales_quantity\n",
    "FROM\n",
    "    `{project}.{dataset}.{fact_sales_table}`\n",
    "WHERE\n",
    "    sales_quantity IS NOT NULL\n",
    "    AND retailer = '{retailer}'\n",
    "    AND DATE(date_key) BETWEEN '2023-01-01' AND '2023-12-31'"
   ],
   "id": "b3ba3519add174d8",
   "outputs": [],
   "execution_count": 4
  },
  {
   "metadata": {
    "ExecuteTime": {
     "end_time": "2024-12-03T12:19:05.013012Z",
     "start_time": "2024-12-03T12:18:34.896764Z"
    }
   },
   "cell_type": "code",
   "source": [
    "%%load inventory_df\n",
    "SELECT\n",
    "    DATE(date_key) AS date,\n",
    "    DATE_TRUNC(DATE(date_key), MONTH) AS time_window,\n",
    "    store_id,\n",
    "    product_id,\n",
    "    on_hand_quantity AS inventory_quantity\n",
    "FROM\n",
    "    `{project}.{dataset}.{fact_inventory_table}`\n",
    "WHERE\n",
    "    on_hand_quantity IS NOT NULL\n",
    "    AND retailer = '{retailer}'\n",
    "    AND DATE(date_key) BETWEEN '2023-01-01' AND '2023-12-31'"
   ],
   "id": "9b5b527b7e28ba02",
   "outputs": [],
   "execution_count": 5
  },
  {
   "metadata": {},
   "cell_type": "markdown",
   "source": [
    "### Perform anomaly detection using z-scores\n",
    "\n",
    "For each time window (in this case each month) and product, we'll compute the z-score of `sales_quantity` and identify outliers where the absolute z-score exceeds 3.5."
   ],
   "id": "7da5028b0e2aab5f"
  },
  {
   "metadata": {},
   "cell_type": "markdown",
   "source": "",
   "id": "78279b9a666f674c"
  },
  {
   "metadata": {},
   "cell_type": "code",
   "outputs": [],
   "execution_count": null,
   "source": [
    "# Function to compute z-scores and identify outliers\n",
    "def detect_outliers(group):\n",
    "    if len(group) > 30:\n",
    "        group[\"z_score\"] = zscore(group[\"sales_quantity\"])\n",
    "        group[\"outlier\"] = group[\"z_score\"].abs() > 3.5\n",
    "    else:\n",
    "        group[\"z_score\"] = np.nan\n",
    "        group[\"outlier\"] = False\n",
    "    return group\n",
    "\n",
    "\n",
    "sales_df[\"sales_quantity\"] = sales_df[\"sales_quantity\"].astype(float)\n",
    "\n",
    "# Apply the function to each product within each time window\n",
    "grouped_sales = (\n",
    "    sales_df.groupby([\"time_window\", \"product_id\"], as_index=False)\n",
    "    .apply(detect_outliers)\n",
    "    .reset_index(drop=True)\n",
    ")"
   ],
   "id": "2a9893259e070e40"
  },
  {
   "metadata": {},
   "cell_type": "markdown",
   "source": "We will then calculate the total number and percentage of anomalies in the dataset.\n",
   "id": "dac6eb9e7c1ce601"
  },
  {
   "metadata": {},
   "cell_type": "code",
   "outputs": [],
   "execution_count": null,
   "source": [
    "sales_anomalies = grouped_sales[grouped_sales[\"outlier\"]]\n",
    "sales_anomalies = (\n",
    "    sales_anomalies.groupby([\"product_id\", \"store_id\", \"time_window\"])\n",
    "    .last()\n",
    "    .reset_index()\n",
    ")\n",
    "\n",
    "print(f\"Number of anomalies detected in sales data: {len(sales_anomalies)}\")\n",
    "sales_anomalies.head()\n",
    "\n",
    "print(f\"Number of anomalies detected in sales data: {len(sales_anomalies)}\")\n",
    "print(f\"Total number of sales data points: {len(sales_df)}\")\n",
    "print(\n",
    "    f\"Anomalies as a percentage of total sales data: {len(sales_anomalies) / len(sales_df) * 100:.2f}%\"\n",
    ")"
   ],
   "id": "f2249f7a878cdd17"
  },
  {
   "metadata": {},
   "cell_type": "markdown",
   "source": [
    "### Visualize the anomalies in sales data\n",
    "\n",
    "We will plot the sales quantities over time for a specific product and highlight the anomalies."
   ],
   "id": "81da62fd38d71313"
  },
  {
   "metadata": {},
   "cell_type": "code",
   "outputs": [],
   "execution_count": null,
   "source": [
    "if not sales_anomalies.empty:\n",
    "    product_to_plot = sales_anomalies[\"product_id\"].iloc[0]\n",
    "    product_data = grouped_sales[grouped_sales[\"product_id\"] == product_to_plot].copy()\n",
    "\n",
    "    # Ensure 'outlier' is boolean\n",
    "    product_data[\"outlier\"] = product_data[\"outlier\"].astype(bool)\n",
    "\n",
    "    # Plot sales quantity over time\n",
    "    plt.figure(figsize=(12, 6))\n",
    "    sns.lineplot(\n",
    "        data=product_data, x=\"date\", y=\"sales_quantity\", label=\"Sales Quantity\"\n",
    "    )\n",
    "\n",
    "    # Plot anomalies\n",
    "    anomalies = product_data[product_data[\"outlier\"]]\n",
    "    sns.scatterplot(\n",
    "        data=anomalies,\n",
    "        x=\"date\",\n",
    "        y=\"sales_quantity\",\n",
    "        color=\"red\",\n",
    "        label=\"Anomalies\",\n",
    "        s=100,\n",
    "    )\n",
    "    plt.title(f\"Sales Quantity Over Time for Product {product_to_plot}\")\n",
    "    plt.xlabel(\"Date\")\n",
    "    plt.ylabel(\"Sales Quantity\")\n",
    "    plt.legend()\n",
    "    plt.show()\n",
    "else:\n",
    "    print(\"No anomalies detected to visualize.\")"
   ],
   "id": "95c4f2fc86017f93"
  },
  {
   "cell_type": "markdown",
   "id": "caad30fa",
   "metadata": {},
   "source": [
    "### Perform anomaly detection on inventory data (if needed)\n",
    "\n",
    "You can apply the same process to the inventory data."
   ]
  },
  {
   "metadata": {
    "ExecuteTime": {
     "end_time": "2024-12-03T12:19:21.915279Z",
     "start_time": "2024-12-03T12:19:13.492121Z"
    }
   },
   "cell_type": "code",
   "source": [
    "# Function to compute z-scores and identify outliers\n",
    "def detect_outliers_inventory(group):\n",
    "    if len(group) > 30:\n",
    "        group[\"z_score\"] = zscore(group[\"inventory_quantity\"])\n",
    "        group[\"outlier\"] = group[\"z_score\"].abs() > 3.5\n",
    "    else:\n",
    "        group[\"z_score\"] = np.nan\n",
    "        group[\"outlier\"] = False\n",
    "    return group\n",
    "\n",
    "\n",
    "inventory_df[\"inventory_quantity\"] = inventory_df[\"inventory_quantity\"].astype(float)\n",
    "\n",
    "# Apply the function to each product within each time window\n",
    "grouped_inventory = (\n",
    "    inventory_df.groupby([\"time_window\", \"product_id\"], as_index=False)\n",
    "    .apply(detect_outliers_inventory)\n",
    "    .reset_index(drop=True)\n",
    ")"
   ],
   "id": "6fa9389753a8a14c",
   "outputs": [
    {
     "name": "stderr",
     "output_type": "stream",
     "text": [
      "/var/folders/yc/tk8l4tpj03s23nsy68jphwxr0000gn/T/ipykernel_17190/718405992.py:17: DeprecationWarning: DataFrameGroupBy.apply operated on the grouping columns. This behavior is deprecated, and in a future version of pandas the grouping columns will be excluded from the operation. Either pass `include_groups=False` to exclude the groupings or explicitly select the grouping columns after groupby to silence this warning.\n",
      "  .apply(detect_outliers_inventory)\n"
     ]
    }
   ],
   "execution_count": 9
  },
  {
   "metadata": {},
   "cell_type": "markdown",
   "source": "### Examine the anomalies in inventory data",
   "id": "1960ad60d8dea492"
  },
  {
   "cell_type": "code",
   "id": "9ab6a85e",
   "metadata": {
    "ExecuteTime": {
     "end_time": "2024-12-03T12:19:22.148818Z",
     "start_time": "2024-12-03T12:19:21.924647Z"
    }
   },
   "source": [
    "inventory_anomalies = grouped_inventory[grouped_inventory[\"outlier\"]]\n",
    "inventory_anomalies = (\n",
    "    inventory_anomalies.groupby([\"product_id\", \"store_id\", \"time_window\"])\n",
    "    .last()\n",
    "    .reset_index()\n",
    ")\n",
    "\n",
    "print(f\"Number of anomalies detected in inventory data: {len(inventory_anomalies)}\")\n",
    "inventory_anomalies.head()\n",
    "\n",
    "print(f\"Number of anomalies detected in inventory data: {len(inventory_anomalies)}\")\n",
    "print(f\"Total number of inventory data points: {len(inventory_df)}\")\n",
    "print(\n",
    "    f\"Anomalies as a percentage of total inventory data: {len(inventory_anomalies) / len(inventory_df) * 100:.2f}%\"\n",
    ")"
   ],
   "outputs": [
    {
     "name": "stdout",
     "output_type": "stream",
     "text": [
      "Number of anomalies detected in inventory data: 13174\n",
      "Number of anomalies detected in inventory data: 13174\n",
      "Total number of inventory data points: 20354511\n",
      "Anomalies as a percentage of total inventory data: 0.06%\n"
     ]
    }
   ],
   "execution_count": 10
  },
  {
   "cell_type": "markdown",
   "id": "a4dd0bd8",
   "metadata": {},
   "source": [
    "### Visualize the anomalies in inventory data"
   ]
  },
  {
   "cell_type": "code",
   "id": "39907176",
   "metadata": {
    "ExecuteTime": {
     "end_time": "2024-12-03T12:19:24.552306Z",
     "start_time": "2024-12-03T12:19:22.159361Z"
    }
   },
   "source": [
    "# Choose a product to visualize\n",
    "if not inventory_anomalies.empty:\n",
    "    product_to_plot = inventory_anomalies[\"product_id\"].iloc[0]\n",
    "    product_data = grouped_inventory[\n",
    "        grouped_inventory[\"product_id\"] == product_to_plot\n",
    "    ].copy()\n",
    "\n",
    "    # Ensure 'outlier' is a boolean\n",
    "    product_data[\"outlier\"] = product_data[\"outlier\"].astype(bool)\n",
    "\n",
    "    # Plot inventory quantity over time\n",
    "    plt.figure(figsize=(12, 6))\n",
    "    sns.lineplot(\n",
    "        data=product_data, x=\"date\", y=\"inventory_quantity\", label=\"Inventory Quantity\"\n",
    "    )\n",
    "\n",
    "    # Plot anomalies\n",
    "    anomalies = product_data[product_data[\"outlier\"]]\n",
    "    # Add hover tooltip to red dots that has store_id\n",
    "    sns.scatterplot(\n",
    "        data=anomalies,\n",
    "        x=\"date\",\n",
    "        y=\"inventory_quantity\",\n",
    "        color=\"red\",\n",
    "        label=\"Anomalies\",\n",
    "        s=100,\n",
    "    )\n",
    "\n",
    "    plt.title(f\"Inventory Quantity Over Time for Product {product_to_plot}\")\n",
    "    plt.xlabel(\"Date\")\n",
    "    plt.ylabel(\"Inventory Quantity\")\n",
    "    plt.legend()\n",
    "    plt.show()\n",
    "else:\n",
    "    print(\"No anomalies detected to visualize.\")"
   ],
   "outputs": [
    {
     "data": {
      "text/plain": [
       "<Figure size 1200x600 with 1 Axes>"
      ],
      "image/png": "[encoded data removed]"
     },
     "metadata": {},
     "output_type": "display_data"
    }
   ],
   "execution_count": 11
  },
  {
   "cell_type": "markdown",
   "id": "3b5c8bd9",
   "metadata": {},
   "source": "### Save or report the anomalies"
  },
  {
   "cell_type": "markdown",
   "id": "ab773afa",
   "metadata": {},
   "source": [
    "#### Save anomalies to CSV files"
   ]
  },
  {
   "cell_type": "code",
   "id": "3271ef62",
   "metadata": {
    "ExecuteTime": {
     "end_time": "2024-12-03T12:19:25.048924Z",
     "start_time": "2024-12-03T12:19:24.561607Z"
    }
   },
   "source": [
    "# Save sales anomalies to a CSV file\n",
    "sales_anomalies.to_csv(\"sales_anomalies.csv\", index=False)\n",
    "print(\"Sales anomalies saved to 'sales_anomalies.csv'.\")\n",
    "\n",
    "# Save inventory anomalies to a CSV file\n",
    "inventory_anomalies.to_csv(\"inventory_anomalies.csv\", index=False)\n",
    "print(\"Inventory anomalies saved to 'inventory_anomalies.csv'.\")"
   ],
   "outputs": [
    {
     "name": "stdout",
     "output_type": "stream",
     "text": [
      "Sales anomalies saved to 'sales_anomalies.csv'.\n",
      "Inventory anomalies saved to 'inventory_anomalies.csv'.\n"
     ]
    }
   ],
   "execution_count": 12
  },
  {
   "cell_type": "markdown",
   "id": "3e15bdcf",
   "metadata": {},
   "source": "#### Save anomalies to your data warehouse"
  },
  {
   "metadata": {
    "ExecuteTime": {
     "end_time": "2024-12-03T12:19:25.065354Z",
     "start_time": "2024-12-03T12:19:25.059184Z"
    }
   },
   "cell_type": "code",
   "source": "sales_anomalies",
   "id": "c0573ce6229d2949",
   "outputs": [
    {
     "data": {
      "text/plain": [
       "                product_id             store_id time_window        date  \\\n",
       "0          694583400925197  7455363607872497698  2023-01-01  2023-01-12   \n",
       "1          694583400925197  7455363607872497698  2023-04-01  2023-04-03   \n",
       "2          694583400925197  7455363607872497698  2023-05-01  2023-05-10   \n",
       "3          694583400925197  7455363607872497698  2023-10-01  2023-10-06   \n",
       "4        13100840677028524    26228510342837085  2023-03-01  2023-03-17   \n",
       "...                    ...                  ...         ...         ...   \n",
       "74376  9170593861931171618  6439276602787870231  2023-01-01  2023-01-21   \n",
       "74377  9170593861931171618  6951928780484453624  2023-03-01  2023-03-14   \n",
       "74378  9170593861931171618  8120938986109419000  2023-08-01  2023-08-24   \n",
       "74379  9170593861931171618  9193430749444361899  2023-02-01  2023-02-26   \n",
       "74380  9170593861931171618  9193430749444361899  2023-03-01  2023-03-12   \n",
       "\n",
       "       sales_quantity   z_score  outlier  \n",
       "0                30.0  5.817143     True  \n",
       "1                12.0  3.583513     True  \n",
       "2                13.0  3.980439     True  \n",
       "3                36.0  5.066973     True  \n",
       "4                 8.0  4.891749     True  \n",
       "...               ...       ...      ...  \n",
       "74376            -5.0 -4.114242     True  \n",
       "74377             9.0  5.199857     True  \n",
       "74378             9.0  5.344460     True  \n",
       "74379             8.0  6.177844     True  \n",
       "74380            -8.0 -4.987989     True  \n",
       "\n",
       "[74381 rows x 7 columns]"
      ],
      "text/html": [
       "<div>\n",
       "<style scoped>\n",
       "    .dataframe tbody tr th:only-of-type {\n",
       "        vertical-align: middle;\n",
       "    }\n",
       "\n",
       "    .dataframe tbody tr th {\n",
       "        vertical-align: top;\n",
       "    }\n",
       "\n",
       "    .dataframe thead th {\n",
       "        text-align: right;\n",
       "    }\n",
       "</style>\n",
       "<table border=\"1\" class=\"dataframe\">\n",
       "  <thead>\n",
       "    <tr style=\"text-align: right;\">\n",
       "      <th></th>\n",
       "      <th>product_id</th>\n",
       "      <th>store_id</th>\n",
       "      <th>time_window</th>\n",
       "      <th>date</th>\n",
       "      <th>sales_quantity</th>\n",
       "      <th>z_score</th>\n",
       "      <th>outlier</th>\n",
       "    </tr>\n",
       "  </thead>\n",
       "  <tbody>\n",
       "    <tr>\n",
       "      <th>0</th>\n",
       "      <td>694583400925197</td>\n",
       "      <td>7455363607872497698</td>\n",
       "      <td>2023-01-01</td>\n",
       "      <td>2023-01-12</td>\n",
       "      <td>30.0</td>\n",
       "      <td>5.817143</td>\n",
       "      <td>True</td>\n",
       "    </tr>\n",
       "    <tr>\n",
       "      <th>1</th>\n",
       "      <td>694583400925197</td>\n",
       "      <td>7455363607872497698</td>\n",
       "      <td>2023-04-01</td>\n",
       "      <td>2023-04-03</td>\n",
       "      <td>12.0</td>\n",
       "      <td>3.583513</td>\n",
       "      <td>True</td>\n",
       "    </tr>\n",
       "    <tr>\n",
       "      <th>2</th>\n",
       "      <td>694583400925197</td>\n",
       "      <td>7455363607872497698</td>\n",
       "      <td>2023-05-01</td>\n",
       "      <td>2023-05-10</td>\n",
       "      <td>13.0</td>\n",
       "      <td>3.980439</td>\n",
       "      <td>True</td>\n",
       "    </tr>\n",
       "    <tr>\n",
       "      <th>3</th>\n",
       "      <td>694583400925197</td>\n",
       "      <td>7455363607872497698</td>\n",
       "      <td>2023-10-01</td>\n",
       "      <td>2023-10-06</td>\n",
       "      <td>36.0</td>\n",
       "      <td>5.066973</td>\n",
       "      <td>True</td>\n",
       "    </tr>\n",
       "    <tr>\n",
       "      <th>4</th>\n",
       "      <td>13100840677028524</td>\n",
       "      <td>26228510342837085</td>\n",
       "      <td>2023-03-01</td>\n",
       "      <td>2023-03-17</td>\n",
       "      <td>8.0</td>\n",
       "      <td>4.891749</td>\n",
       "      <td>True</td>\n",
       "    </tr>\n",
       "    <tr>\n",
       "      <th>...</th>\n",
       "      <td>...</td>\n",
       "      <td>...</td>\n",
       "      <td>...</td>\n",
       "      <td>...</td>\n",
       "      <td>...</td>\n",
       "      <td>...</td>\n",
       "      <td>...</td>\n",
       "    </tr>\n",
       "    <tr>\n",
       "      <th>74376</th>\n",
       "      <td>9170593861931171618</td>\n",
       "      <td>6439276602787870231</td>\n",
       "      <td>2023-01-01</td>\n",
       "      <td>2023-01-21</td>\n",
       "      <td>-5.0</td>\n",
       "      <td>-4.114242</td>\n",
       "      <td>True</td>\n",
       "    </tr>\n",
       "    <tr>\n",
       "      <th>74377</th>\n",
       "      <td>9170593861931171618</td>\n",
       "      <td>6951928780484453624</td>\n",
       "      <td>2023-03-01</td>\n",
       "      <td>2023-03-14</td>\n",
       "      <td>9.0</td>\n",
       "      <td>5.199857</td>\n",
       "      <td>True</td>\n",
       "    </tr>\n",
       "    <tr>\n",
       "      <th>74378</th>\n",
       "      <td>9170593861931171618</td>\n",
       "      <td>8120938986109419000</td>\n",
       "      <td>2023-08-01</td>\n",
       "      <td>2023-08-24</td>\n",
       "      <td>9.0</td>\n",
       "      <td>5.344460</td>\n",
       "      <td>True</td>\n",
       "    </tr>\n",
       "    <tr>\n",
       "      <th>74379</th>\n",
       "      <td>9170593861931171618</td>\n",
       "      <td>9193430749444361899</td>\n",
       "      <td>2023-02-01</td>\n",
       "      <td>2023-02-26</td>\n",
       "      <td>8.0</td>\n",
       "      <td>6.177844</td>\n",
       "      <td>True</td>\n",
       "    </tr>\n",
       "    <tr>\n",
       "      <th>74380</th>\n",
       "      <td>9170593861931171618</td>\n",
       "      <td>9193430749444361899</td>\n",
       "      <td>2023-03-01</td>\n",
       "      <td>2023-03-12</td>\n",
       "      <td>-8.0</td>\n",
       "      <td>-4.987989</td>\n",
       "      <td>True</td>\n",
       "    </tr>\n",
       "  </tbody>\n",
       "</table>\n",
       "<p>74381 rows × 7 columns</p>\n",
       "</div>"
      ]
     },
     "execution_count": 13,
     "metadata": {},
     "output_type": "execute_result"
    }
   ],
   "execution_count": 13
  },
  {
   "metadata": {
    "ExecuteTime": {
     "end_time": "2024-12-03T12:19:31.830293Z",
     "start_time": "2024-12-03T12:19:25.093055Z"
    }
   },
   "cell_type": "code",
   "source": [
    "%%save {project}.{dataset}.sales_anomalies\n",
    "sales_anomalies"
   ],
   "id": "ace2884f306484ff",
   "outputs": [],
   "execution_count": 14
  },
  {
   "metadata": {
    "ExecuteTime": {
     "end_time": "2024-12-03T12:19:31.864292Z",
     "start_time": "2024-12-03T12:19:31.858215Z"
    }
   },
   "cell_type": "code",
   "source": "inventory_anomalies",
   "id": "398ebd897cd154d9",
   "outputs": [
    {
     "data": {
      "text/plain": [
       "                product_id             store_id time_window        date  \\\n",
       "0       118001467941278016   274416775700282450  2023-06-01  2023-06-30   \n",
       "1       118001467941278016   538717246953401588  2023-06-01  2023-06-28   \n",
       "2       118001467941278016   538717246953401588  2023-09-01  2023-09-21   \n",
       "3       118001467941278016   538717246953401588  2023-10-01  2023-10-07   \n",
       "4       118001467941278016  1410343930626783872  2023-06-01  2023-06-29   \n",
       "...                    ...                  ...         ...         ...   \n",
       "13169  9049183011065399697  9125856341774185011  2023-10-01  2023-10-11   \n",
       "13170  9049183011065399697  9193430749444361899  2023-06-01  2023-06-28   \n",
       "13171  9049183011065399697  9193430749444361899  2023-07-01  2023-07-08   \n",
       "13172  9049183011065399697  9206472950804189232  2023-06-01  2023-06-30   \n",
       "13173  9081864259306673768  8678839594371915025  2023-10-01  2023-10-29   \n",
       "\n",
       "       inventory_quantity    z_score  outlier  \n",
       "0                    95.0   5.090750     True  \n",
       "1                    98.0   5.266657     True  \n",
       "2                   115.0   4.082191     True  \n",
       "3                   107.0   3.530712     True  \n",
       "4                   184.0  10.309319     True  \n",
       "...                   ...        ...      ...  \n",
       "13169               755.0   4.340040     True  \n",
       "13170               470.0   5.058581     True  \n",
       "13171               549.0   3.618406     True  \n",
       "13172               345.0   3.587217     True  \n",
       "13173                50.0   3.508769     True  \n",
       "\n",
       "[13174 rows x 7 columns]"
      ],
      "text/html": [
       "<div>\n",
       "<style scoped>\n",
       "    .dataframe tbody tr th:only-of-type {\n",
       "        vertical-align: middle;\n",
       "    }\n",
       "\n",
       "    .dataframe tbody tr th {\n",
       "        vertical-align: top;\n",
       "    }\n",
       "\n",
       "    .dataframe thead th {\n",
       "        text-align: right;\n",
       "    }\n",
       "</style>\n",
       "<table border=\"1\" class=\"dataframe\">\n",
       "  <thead>\n",
       "    <tr style=\"text-align: right;\">\n",
       "      <th></th>\n",
       "      <th>product_id</th>\n",
       "      <th>store_id</th>\n",
       "      <th>time_window</th>\n",
       "      <th>date</th>\n",
       "      <th>inventory_quantity</th>\n",
       "      <th>z_score</th>\n",
       "      <th>outlier</th>\n",
       "    </tr>\n",
       "  </thead>\n",
       "  <tbody>\n",
       "    <tr>\n",
       "      <th>0</th>\n",
       "      <td>118001467941278016</td>\n",
       "      <td>274416775700282450</td>\n",
       "      <td>2023-06-01</td>\n",
       "      <td>2023-06-30</td>\n",
       "      <td>95.0</td>\n",
       "      <td>5.090750</td>\n",
       "      <td>True</td>\n",
       "    </tr>\n",
       "    <tr>\n",
       "      <th>1</th>\n",
       "      <td>118001467941278016</td>\n",
       "      <td>538717246953401588</td>\n",
       "      <td>2023-06-01</td>\n",
       "      <td>2023-06-28</td>\n",
       "      <td>98.0</td>\n",
       "      <td>5.266657</td>\n",
       "      <td>True</td>\n",
       "    </tr>\n",
       "    <tr>\n",
       "      <th>2</th>\n",
       "      <td>118001467941278016</td>\n",
       "      <td>538717246953401588</td>\n",
       "      <td>2023-09-01</td>\n",
       "      <td>2023-09-21</td>\n",
       "      <td>115.0</td>\n",
       "      <td>4.082191</td>\n",
       "      <td>True</td>\n",
       "    </tr>\n",
       "    <tr>\n",
       "      <th>3</th>\n",
       "      <td>118001467941278016</td>\n",
       "      <td>538717246953401588</td>\n",
       "      <td>2023-10-01</td>\n",
       "      <td>2023-10-07</td>\n",
       "      <td>107.0</td>\n",
       "      <td>3.530712</td>\n",
       "      <td>True</td>\n",
       "    </tr>\n",
       "    <tr>\n",
       "      <th>4</th>\n",
       "      <td>118001467941278016</td>\n",
       "      <td>1410343930626783872</td>\n",
       "      <td>2023-06-01</td>\n",
       "      <td>2023-06-29</td>\n",
       "      <td>184.0</td>\n",
       "      <td>10.309319</td>\n",
       "      <td>True</td>\n",
       "    </tr>\n",
       "    <tr>\n",
       "      <th>...</th>\n",
       "      <td>...</td>\n",
       "      <td>...</td>\n",
       "      <td>...</td>\n",
       "      <td>...</td>\n",
       "      <td>...</td>\n",
       "      <td>...</td>\n",
       "      <td>...</td>\n",
       "    </tr>\n",
       "    <tr>\n",
       "      <th>13169</th>\n",
       "      <td>9049183011065399697</td>\n",
       "      <td>9125856341774185011</td>\n",
       "      <td>2023-10-01</td>\n",
       "      <td>2023-10-11</td>\n",
       "      <td>755.0</td>\n",
       "      <td>4.340040</td>\n",
       "      <td>True</td>\n",
       "    </tr>\n",
       "    <tr>\n",
       "      <th>13170</th>\n",
       "      <td>9049183011065399697</td>\n",
       "      <td>9193430749444361899</td>\n",
       "      <td>2023-06-01</td>\n",
       "      <td>2023-06-28</td>\n",
       "      <td>470.0</td>\n",
       "      <td>5.058581</td>\n",
       "      <td>True</td>\n",
       "    </tr>\n",
       "    <tr>\n",
       "      <th>13171</th>\n",
       "      <td>9049183011065399697</td>\n",
       "      <td>9193430749444361899</td>\n",
       "      <td>2023-07-01</td>\n",
       "      <td>2023-07-08</td>\n",
       "      <td>549.0</td>\n",
       "      <td>3.618406</td>\n",
       "      <td>True</td>\n",
       "    </tr>\n",
       "    <tr>\n",
       "      <th>13172</th>\n",
       "      <td>9049183011065399697</td>\n",
       "      <td>9206472950804189232</td>\n",
       "      <td>2023-06-01</td>\n",
       "      <td>2023-06-30</td>\n",
       "      <td>345.0</td>\n",
       "      <td>3.587217</td>\n",
       "      <td>True</td>\n",
       "    </tr>\n",
       "    <tr>\n",
       "      <th>13173</th>\n",
       "      <td>9081864259306673768</td>\n",
       "      <td>8678839594371915025</td>\n",
       "      <td>2023-10-01</td>\n",
       "      <td>2023-10-29</td>\n",
       "      <td>50.0</td>\n",
       "      <td>3.508769</td>\n",
       "      <td>True</td>\n",
       "    </tr>\n",
       "  </tbody>\n",
       "</table>\n",
       "<p>13174 rows × 7 columns</p>\n",
       "</div>"
      ]
     },
     "execution_count": 15,
     "metadata": {},
     "output_type": "execute_result"
    }
   ],
   "execution_count": 15
  },
  {
   "metadata": {
    "ExecuteTime": {
     "end_time": "2024-12-03T12:19:42.144427Z",
     "start_time": "2024-12-03T12:19:31.895819Z"
    }
   },
   "cell_type": "code",
   "source": [
    "%%save {project}.{dataset}.inventory_anomalies\n",
    "inventory_anomalies"
   ],
   "id": "e9ed4f1fefffd29c",
   "outputs": [],
   "execution_count": 16
  }
 ],
 "metadata": {
  "kernelspec": {
   "display_name": "Python 3",
   "language": "python",
   "name": "python3"
  },
  "language_info": {
   "codemirror_mode": {
    "name": "ipython",
    "version": "3"
   },
   "file_extension": ".py",
   "mimetype": "text/x-python",
   "name": "python",
   "nbconvert_exporter": "python",
   "pygments_lexer": "ipython3",
   "version": "3.8"
  }
 },
 "nbformat": 4,
 "nbformat_minor": 5
}
